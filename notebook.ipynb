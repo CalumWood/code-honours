{
 "cells": [
  {
   "cell_type": "code",
   "execution_count": 4,
   "metadata": {},
   "outputs": [],
   "source": [
    "from quantum_game import *"
   ]
  },
  {
   "cell_type": "code",
   "execution_count": 5,
   "metadata": {},
   "outputs": [
    {
     "name": "stdout",
     "output_type": "stream",
     "text": [
      "player created: Cal\n",
      "player created: bot\n",
      "game created\n",
      "running game\n",
      "ending game\n"
     ]
    }
   ],
   "source": [
    "game = Game([Player(\"Cal\"), Player(\"bot\")], map_test)\n",
    "game.run()"
   ]
  }
 ],
 "metadata": {
  "interpreter": {
   "hash": "9255857826fd55f160e288fd3c56ae1947b6a113b76995d534babe5959037c26"
  },
  "kernelspec": {
   "display_name": "Python 3.9.4 ('QVEnv')",
   "language": "python",
   "name": "python3"
  },
  "language_info": {
   "codemirror_mode": {
    "name": "ipython",
    "version": 3
   },
   "file_extension": ".py",
   "mimetype": "text/x-python",
   "name": "python",
   "nbconvert_exporter": "python",
   "pygments_lexer": "ipython3",
   "version": "3.10.2"
  },
  "orig_nbformat": 4
 },
 "nbformat": 4,
 "nbformat_minor": 2
}
